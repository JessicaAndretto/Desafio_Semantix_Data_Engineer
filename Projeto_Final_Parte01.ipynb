{
 "cells": [
  {
   "cell_type": "markdown",
   "metadata": {},
   "source": [
    "### Arquivos no hdfs"
   ]
  },
  {
   "cell_type": "code",
   "execution_count": 5,
   "metadata": {},
   "outputs": [],
   "source": [
    "# Importando as bibliotecas.\n",
    "from pyspark.sql.functions import *"
   ]
  },
  {
   "cell_type": "code",
   "execution_count": 6,
   "metadata": {},
   "outputs": [],
   "source": [
    "from pyspark.sql.types import *"
   ]
  },
  {
   "cell_type": "code",
   "execution_count": 3,
   "metadata": {},
   "outputs": [
    {
     "name": "stdout",
     "output_type": "stream",
     "text": [
      "Found 2 items\r\n",
      "drwxr-xr-x   - root supergroup          0 2022-12-03 17:45 /user/hive\r\n",
      "drwxr-xr-x   - root supergroup          0 2022-12-03 18:05 /user/jessica\r\n"
     ]
    }
   ],
   "source": [
    "# Verificando as pastas dentro do hdfs.\n",
    "!hdfs dfs -ls /user"
   ]
  },
  {
   "cell_type": "code",
   "execution_count": null,
   "metadata": {},
   "outputs": [],
   "source": [
    "# Criação da pasta para envio dos arquivos\n",
    "!hdfs dfs -mkdir /user/jessica"
   ]
  },
  {
   "cell_type": "code",
   "execution_count": null,
   "metadata": {},
   "outputs": [],
   "source": [
    "!hdfs dfs -mkdir /user/jessica/dados_covid"
   ]
  },
  {
   "cell_type": "markdown",
   "metadata": {},
   "source": [
    "**Observação:** O envio dos arquivos foram feitos pelo shell do Spark no terminal. O comando utilizado foi:\n",
    "```bash\n",
    "hdfs dfs -put /input/*.csv /user/jessica/dados_covid\n",
    "```"
   ]
  },
  {
   "cell_type": "code",
   "execution_count": 4,
   "metadata": {},
   "outputs": [
    {
     "name": "stdout",
     "output_type": "stream",
     "text": [
      "Found 5 items\r\n",
      "-rw-r--r--   3 root supergroup   62492959 2022-12-03 18:07 /user/jessica/dados_covid/HIST_PAINEL_COVIDBR_2020_Parte1_06jul2021.csv\r\n",
      "-rw-r--r--   3 root supergroup   76520681 2022-12-03 18:07 /user/jessica/dados_covid/HIST_PAINEL_COVIDBR_2020_Parte2_06jul2021.csv\r\n",
      "-rw-r--r--   3 root supergroup   91120916 2022-12-03 18:08 /user/jessica/dados_covid/HIST_PAINEL_COVIDBR_2021_Parte1_06jul2021.csv\r\n",
      "-rw-r--r--   3 root supergroup    3046774 2022-12-03 18:08 /user/jessica/dados_covid/HIST_PAINEL_COVIDBR_2021_Parte2_06jul2021.csv\r\n",
      "drwxr-xr-x   - root supergroup          0 2022-12-03 18:36 /user/jessica/dados_covid/casos_confirmados\r\n"
     ]
    }
   ],
   "source": [
    "# Verificando o envio dos dados paro o hdfs.\n",
    "!hdfs dfs -ls /user/jessica/dados_covid"
   ]
  },
  {
   "cell_type": "markdown",
   "metadata": {},
   "source": [
    "### Trabalhando com a base de dados"
   ]
  },
  {
   "cell_type": "code",
   "execution_count": 7,
   "metadata": {},
   "outputs": [],
   "source": [
    "# Leitura dos quatro arquivos de dados como um dataframe.\n",
    "df_covid = spark.read.csv(\"/user/jessica/dados_covid/*.csv\", sep = \";\", header = True, inferSchema = True)"
   ]
  },
  {
   "cell_type": "code",
   "execution_count": 6,
   "metadata": {},
   "outputs": [
    {
     "name": "stdout",
     "output_type": "stream",
     "text": [
      "+------+------+---------+-----+------+--------------+---------------+-------------------+---------+----------------+--------------+----------+---------------+-----------+----------------+---------------------+----------------------+\n",
      "|regiao|estado|municipio|coduf|codmun|codRegiaoSaude|nomeRegiaoSaude|               data|semanaEpi|populacaoTCU2019|casosAcumulado|casosNovos|obitosAcumulado|obitosNovos|Recuperadosnovos|emAcompanhamentoNovos|interior/metropolitana|\n",
      "+------+------+---------+-----+------+--------------+---------------+-------------------+---------+----------------+--------------+----------+---------------+-----------+----------------+---------------------+----------------------+\n",
      "|Brasil|  null|     null|   76|  null|          null|           null|2020-02-25 00:00:00|        9|       210147125|             0|         0|              0|          0|            null|                 null|                  null|\n",
      "|Brasil|  null|     null|   76|  null|          null|           null|2020-02-26 00:00:00|        9|       210147125|             1|         1|              0|          0|            null|                 null|                  null|\n",
      "|Brasil|  null|     null|   76|  null|          null|           null|2020-02-27 00:00:00|        9|       210147125|             1|         0|              0|          0|            null|                 null|                  null|\n",
      "|Brasil|  null|     null|   76|  null|          null|           null|2020-02-28 00:00:00|        9|       210147125|             1|         0|              0|          0|            null|                 null|                  null|\n",
      "|Brasil|  null|     null|   76|  null|          null|           null|2020-02-29 00:00:00|        9|       210147125|             2|         1|              0|          0|            null|                 null|                  null|\n",
      "|Brasil|  null|     null|   76|  null|          null|           null|2020-03-01 00:00:00|       10|       210147125|             2|         0|              0|          0|            null|                 null|                  null|\n",
      "|Brasil|  null|     null|   76|  null|          null|           null|2020-03-02 00:00:00|       10|       210147125|             2|         0|              0|          0|            null|                 null|                  null|\n",
      "|Brasil|  null|     null|   76|  null|          null|           null|2020-03-03 00:00:00|       10|       210147125|             2|         0|              0|          0|            null|                 null|                  null|\n",
      "|Brasil|  null|     null|   76|  null|          null|           null|2020-03-04 00:00:00|       10|       210147125|             3|         1|              0|          0|            null|                 null|                  null|\n",
      "|Brasil|  null|     null|   76|  null|          null|           null|2020-03-05 00:00:00|       10|       210147125|             7|         4|              0|          0|            null|                 null|                  null|\n",
      "+------+------+---------+-----+------+--------------+---------------+-------------------+---------+----------------+--------------+----------+---------------+-----------+----------------+---------------------+----------------------+\n",
      "only showing top 10 rows\n",
      "\n"
     ]
    }
   ],
   "source": [
    "# Visualização dos dados.\n",
    "df_covid.show(10)"
   ]
  },
  {
   "cell_type": "code",
   "execution_count": 7,
   "metadata": {},
   "outputs": [
    {
     "name": "stdout",
     "output_type": "stream",
     "text": [
      "root\n",
      " |-- regiao: string (nullable = true)\n",
      " |-- estado: string (nullable = true)\n",
      " |-- municipio: string (nullable = true)\n",
      " |-- coduf: integer (nullable = true)\n",
      " |-- codmun: integer (nullable = true)\n",
      " |-- codRegiaoSaude: integer (nullable = true)\n",
      " |-- nomeRegiaoSaude: string (nullable = true)\n",
      " |-- data: timestamp (nullable = true)\n",
      " |-- semanaEpi: integer (nullable = true)\n",
      " |-- populacaoTCU2019: integer (nullable = true)\n",
      " |-- casosAcumulado: decimal(10,0) (nullable = true)\n",
      " |-- casosNovos: integer (nullable = true)\n",
      " |-- obitosAcumulado: integer (nullable = true)\n",
      " |-- obitosNovos: integer (nullable = true)\n",
      " |-- Recuperadosnovos: integer (nullable = true)\n",
      " |-- emAcompanhamentoNovos: integer (nullable = true)\n",
      " |-- interior/metropolitana: integer (nullable = true)\n",
      "\n"
     ]
    }
   ],
   "source": [
    "# Visualização do Schema.\n",
    "df_covid.printSchema()"
   ]
  },
  {
   "cell_type": "markdown",
   "metadata": {},
   "source": [
    "###  Otimizar todos os dados do hdfs para uma tabela Hive particionada por município\n"
   ]
  },
  {
   "cell_type": "code",
   "execution_count": null,
   "metadata": {
    "scrolled": false
   },
   "outputs": [],
   "source": [
    "df_covid.write.partitionBy('municipio').saveAsTable('jessica.dados_covid')"
   ]
  },
  {
   "cell_type": "markdown",
   "metadata": {},
   "source": [
    "## 3. Criar as 3 visualizações pelo Spark com os dados enviados para o HDFS"
   ]
  },
  {
   "cell_type": "markdown",
   "metadata": {},
   "source": [
    "### Visualização 1 - Casos Recuperados"
   ]
  },
  {
   "cell_type": "code",
   "execution_count": 8,
   "metadata": {},
   "outputs": [
    {
     "name": "stdout",
     "output_type": "stream",
     "text": [
      "+-------------------+\n",
      "|          max(data)|\n",
      "+-------------------+\n",
      "|2021-07-06 00:00:00|\n",
      "+-------------------+\n",
      "\n"
     ]
    }
   ],
   "source": [
    "# Como temos dentro do dataframe registros que apresentam o resultado geral do Brasil, vamos pegar este registro para encontrar\n",
    "# todos os casos recuperados.\n",
    "# Pegando o registro referente a última data.\n",
    "df_covid.agg({'data': 'max'}).show()"
   ]
  },
  {
   "cell_type": "code",
   "execution_count": 9,
   "metadata": {},
   "outputs": [
    {
     "name": "stdout",
     "output_type": "stream",
     "text": [
      "2021-07-06 00:00:00\n"
     ]
    }
   ],
   "source": [
    "# Atribuindo a data a uma variável.\n",
    "last_date = df_covid.agg({'data': 'max'}).head()[0]\n",
    "print(last_date)"
   ]
  },
  {
   "cell_type": "code",
   "execution_count": 10,
   "metadata": {},
   "outputs": [
    {
     "data": {
      "text/plain": [
       "datetime.datetime"
      ]
     },
     "execution_count": 10,
     "metadata": {},
     "output_type": "execute_result"
    }
   ],
   "source": [
    "type(last_date)"
   ]
  },
  {
   "cell_type": "code",
   "execution_count": 10,
   "metadata": {},
   "outputs": [],
   "source": [
    "# Filtrando o dataframe com a última data para todo o Brasil.\n",
    "df_covid_filter_date = df_covid.where((df_covid['regiao'] == 'Brasil') & (df_covid['data'] == last_date))"
   ]
  },
  {
   "cell_type": "code",
   "execution_count": 12,
   "metadata": {},
   "outputs": [
    {
     "name": "stdout",
     "output_type": "stream",
     "text": [
      "+------+------+---------+-----+------+--------------+---------------+-------------------+---------+----------------+--------------+----------+---------------+-----------+----------------+---------------------+----------------------+\n",
      "|regiao|estado|municipio|coduf|codmun|codRegiaoSaude|nomeRegiaoSaude|               data|semanaEpi|populacaoTCU2019|casosAcumulado|casosNovos|obitosAcumulado|obitosNovos|Recuperadosnovos|emAcompanhamentoNovos|interior/metropolitana|\n",
      "+------+------+---------+-----+------+--------------+---------------+-------------------+---------+----------------+--------------+----------+---------------+-----------+----------------+---------------------+----------------------+\n",
      "|Brasil|  null|     null|   76|  null|          null|           null|2021-07-06 00:00:00|       27|       210147125|      18855015|     62504|         526892|       1780|        17262646|              1065477|                  null|\n",
      "+------+------+---------+-----+------+--------------+---------------+-------------------+---------+----------------+--------------+----------+---------------+-----------+----------------+---------------------+----------------------+\n",
      "\n"
     ]
    }
   ],
   "source": [
    "df_covid_filter_date.show()"
   ]
  },
  {
   "cell_type": "code",
   "execution_count": 13,
   "metadata": {},
   "outputs": [
    {
     "name": "stdout",
     "output_type": "stream",
     "text": [
      "+------+----------------+---------------------+\n",
      "|regiao|Recuperadosnovos|emAcompanhamentoNovos|\n",
      "+------+----------------+---------------------+\n",
      "|Brasil|        17262646|              1065477|\n",
      "+------+----------------+---------------------+\n",
      "\n"
     ]
    }
   ],
   "source": [
    "# Selecionando apenas as colunas importantes para essa visualização.\n",
    "df_covid_recovered = df_covid_filter_date['regiao', 'Recuperadosnovos', 'emAcompanhamentoNovos']\n",
    "df_covid_recovered.show()"
   ]
  },
  {
   "cell_type": "code",
   "execution_count": 14,
   "metadata": {},
   "outputs": [],
   "source": [
    "# Renomeando as colunas conforme a visualização.\n",
    "df_covid_recovered = df_covid_recovered.withColumnRenamed(\"regiao\",\"Regiao\").\\\n",
    "withColumnRenamed(\"Recuperadosnovos\",\"Recuperados_Covid\").withColumnRenamed(\"emAcompanhamentoNovos\",\"Em_Acompanhamento_Covid\")"
   ]
  },
  {
   "cell_type": "code",
   "execution_count": 15,
   "metadata": {},
   "outputs": [
    {
     "name": "stdout",
     "output_type": "stream",
     "text": [
      "+------+-----------------+-----------------------+\n",
      "|Regiao|Recuperados_Covid|Em_Acompanhamento_Covid|\n",
      "+------+-----------------+-----------------------+\n",
      "|Brasil|         17262646|                1065477|\n",
      "+------+-----------------+-----------------------+\n",
      "\n"
     ]
    }
   ],
   "source": [
    "# Apresentação do primeira visualização de casos recuperados e em acompanhamento.\n",
    "df_covid_recovered.show()"
   ]
  },
  {
   "cell_type": "markdown",
   "metadata": {},
   "source": [
    "### 4. Salvar a primeira visualização como tabela Hive"
   ]
  },
  {
   "cell_type": "code",
   "execution_count": 23,
   "metadata": {},
   "outputs": [],
   "source": [
    "# Salvando a visualização como tabela hive.\n",
    "df_covid_recovered.write.saveAsTable('visualizacao_recuperados')"
   ]
  },
  {
   "cell_type": "code",
   "execution_count": 16,
   "metadata": {},
   "outputs": [
    {
     "name": "stdout",
     "output_type": "stream",
     "text": [
      "Found 3 items\r\n",
      "-rw-r--r--   2 root supergroup          0 2022-12-03 18:10 /user/hive/warehouse/visualizacao_recuperados/_SUCCESS\r\n",
      "-rw-r--r--   2 root supergroup        493 2022-12-03 18:10 /user/hive/warehouse/visualizacao_recuperados/part-00000-eaa09b15-678d-4804-80e5-95ead80aa4f5-c000.snappy.parquet\r\n",
      "-rw-r--r--   2 root supergroup        932 2022-12-03 18:10 /user/hive/warehouse/visualizacao_recuperados/part-00007-eaa09b15-678d-4804-80e5-95ead80aa4f5-c000.snappy.parquet\r\n"
     ]
    }
   ],
   "source": [
    "# Confirmando que o arquivo está salvo no hdfs.\n",
    "!hdfs dfs -ls /user/hive/warehouse/visualizacao_recuperados"
   ]
  },
  {
   "cell_type": "markdown",
   "metadata": {},
   "source": [
    "### Visualização 2 - Casos Confirmados"
   ]
  },
  {
   "cell_type": "markdown",
   "metadata": {},
   "source": [
    "Essa visualização apresentará os casos confirmados acumulado, casos novos e a incidência até a última data dos dados. \n",
    "Na tabela não possui uma coluna com a taxa de incidência. Dessa forma, o calculo dessa taxa é realizado considerando os novos casos de covid em um determinado período dividido pela população em risco, ou seja, a população brasileira menos o número de casos confirmados.\n"
   ]
  },
  {
   "cell_type": "code",
   "execution_count": 17,
   "metadata": {},
   "outputs": [
    {
     "name": "stdout",
     "output_type": "stream",
     "text": [
      "+------+------+---------+-----+------+--------------+---------------+-------------------+---------+----------------+--------------+----------+---------------+-----------+----------------+---------------------+----------------------+\n",
      "|regiao|estado|municipio|coduf|codmun|codRegiaoSaude|nomeRegiaoSaude|               data|semanaEpi|populacaoTCU2019|casosAcumulado|casosNovos|obitosAcumulado|obitosNovos|Recuperadosnovos|emAcompanhamentoNovos|interior/metropolitana|\n",
      "+------+------+---------+-----+------+--------------+---------------+-------------------+---------+----------------+--------------+----------+---------------+-----------+----------------+---------------------+----------------------+\n",
      "|Brasil|  null|     null|   76|  null|          null|           null|2021-07-06 00:00:00|       27|       210147125|      18855015|     62504|         526892|       1780|        17262646|              1065477|                  null|\n",
      "+------+------+---------+-----+------+--------------+---------------+-------------------+---------+----------------+--------------+----------+---------------+-----------+----------------+---------------------+----------------------+\n",
      "\n"
     ]
    }
   ],
   "source": [
    "# Dataframe filtrado apenas com o registro da última data para a região do Brasil.\n",
    "df_covid_filter_date.show()"
   ]
  },
  {
   "cell_type": "code",
   "execution_count": 18,
   "metadata": {},
   "outputs": [],
   "source": [
    "# Criando a coluna Incidência no dataframe.\n",
    "df_covid_confirmed_incidence = df_covid_filter_date.withColumn('Incidencia', (df_covid_filter_date\\\n",
    "['casosAcumulado'] / (df_covid_filter_date['populacaoTCU2019'] - df_covid_filter_date['casosAcumulado'])*100000))"
   ]
  },
  {
   "cell_type": "code",
   "execution_count": 19,
   "metadata": {},
   "outputs": [],
   "source": [
    "# Estabelecendo o número de casas decimais na coluna nova Incidência.\n",
    "df_covid_confirmed_incidence = df_covid_confirmed_incidence.withColumn('Incidencia', \\\n",
    "format_number(col(\"Incidencia\").cast(FloatType()),1))"
   ]
  },
  {
   "cell_type": "code",
   "execution_count": 20,
   "metadata": {},
   "outputs": [
    {
     "name": "stdout",
     "output_type": "stream",
     "text": [
      "+------+------+---------+-----+------+--------------+---------------+-------------------+---------+----------------+--------------+----------+---------------+-----------+----------------+---------------------+----------------------+----------+\n",
      "|regiao|estado|municipio|coduf|codmun|codRegiaoSaude|nomeRegiaoSaude|               data|semanaEpi|populacaoTCU2019|casosAcumulado|casosNovos|obitosAcumulado|obitosNovos|Recuperadosnovos|emAcompanhamentoNovos|interior/metropolitana|Incidencia|\n",
      "+------+------+---------+-----+------+--------------+---------------+-------------------+---------+----------------+--------------+----------+---------------+-----------+----------------+---------------------+----------------------+----------+\n",
      "|Brasil|  null|     null|   76|  null|          null|           null|2021-07-06 00:00:00|       27|       210147125|      18855015|     62504|         526892|       1780|        17262646|              1065477|                  null|   9,856.7|\n",
      "+------+------+---------+-----+------+--------------+---------------+-------------------+---------+----------------+--------------+----------+---------------+-----------+----------------+---------------------+----------------------+----------+\n",
      "\n"
     ]
    }
   ],
   "source": [
    "df_covid_confirmed_incidence.show()"
   ]
  },
  {
   "cell_type": "code",
   "execution_count": 21,
   "metadata": {},
   "outputs": [
    {
     "name": "stdout",
     "output_type": "stream",
     "text": [
      "+------+--------------+----------+----------+\n",
      "|regiao|casosAcumulado|casosNovos|Incidencia|\n",
      "+------+--------------+----------+----------+\n",
      "|Brasil|      18855015|     62504|   9,856.7|\n",
      "+------+--------------+----------+----------+\n",
      "\n"
     ]
    }
   ],
   "source": [
    "# Criando um dataframe apenas com as informações das colunas importantes para essa visualização.\n",
    "df_covid_confirmed_incidence = df_covid_confirmed_incidence[\"regiao\",\"casosAcumulado\", \"casosNovos\", \"Incidencia\"]\n",
    "df_covid_confirmed_incidence.show()"
   ]
  },
  {
   "cell_type": "code",
   "execution_count": 22,
   "metadata": {},
   "outputs": [],
   "source": [
    "# Renomeando as colunas.\n",
    "df_covid_confirmed_incidence = df_covid_confirmed_incidence.withColumnRenamed(\"regiao\",\"Regiao\").\\\n",
    "withColumnRenamed(\"casosAcumulado\",\"Casos_Acumulado\").withColumnRenamed(\"casosNovos\",\"Casos_Novos\")"
   ]
  },
  {
   "cell_type": "code",
   "execution_count": 23,
   "metadata": {},
   "outputs": [
    {
     "name": "stdout",
     "output_type": "stream",
     "text": [
      "+------+---------------+-----------+----------+\n",
      "|Regiao|Casos_Acumulado|Casos_Novos|Incidencia|\n",
      "+------+---------------+-----------+----------+\n",
      "|Brasil|       18855015|      62504|   9,856.7|\n",
      "+------+---------------+-----------+----------+\n",
      "\n"
     ]
    }
   ],
   "source": [
    "# Apresentação da segunda visualização de casos confirmados.\n",
    "df_covid_confirmed_incidence.show()"
   ]
  },
  {
   "cell_type": "markdown",
   "metadata": {},
   "source": [
    "### 5. Salvar a segunda visualização com formato parquet e compressão snappy"
   ]
  },
  {
   "cell_type": "code",
   "execution_count": null,
   "metadata": {},
   "outputs": [],
   "source": [
    "# Por padrão já está com o formato parquet e com compressão snappy. Dessa forma, foi aplicado diretamente o método save().\n",
    "df_covid_confirmed_incidence.write.save('/user/jessica/dados_covid/casos_confirmados')"
   ]
  },
  {
   "cell_type": "code",
   "execution_count": 24,
   "metadata": {},
   "outputs": [
    {
     "name": "stdout",
     "output_type": "stream",
     "text": [
      "Found 3 items\r\n",
      "-rw-r--r--   2 root supergroup          0 2022-12-03 18:36 /user/jessica/dados_covid/casos_confirmados/_SUCCESS\r\n",
      "-rw-r--r--   2 root supergroup        567 2022-12-03 18:36 /user/jessica/dados_covid/casos_confirmados/part-00000-1878708b-0b74-4ddc-885a-fb5e40be998d-c000.snappy.parquet\r\n",
      "-rw-r--r--   2 root supergroup       1194 2022-12-03 18:35 /user/jessica/dados_covid/casos_confirmados/part-00007-1878708b-0b74-4ddc-885a-fb5e40be998d-c000.snappy.parquet\r\n"
     ]
    }
   ],
   "source": [
    "# Confirmando que a visualização foi salva.\n",
    "!hdfs dfs -ls /user/jessica/dados_covid/casos_confirmados"
   ]
  },
  {
   "cell_type": "markdown",
   "metadata": {},
   "source": [
    "### Visualização 3 - Óbitos Confirmados"
   ]
  },
  {
   "cell_type": "markdown",
   "metadata": {},
   "source": [
    "Essa visualização apresentará os óbitos confirmados com as seguintes colunas, óbitos acumulados, casos novos, letalidade e mortalidade.\n",
    "- **Letalidade** -> total de óbito acumulado durante determinado período dividido pelo total de casos acumulado no período\n",
    "- **Mortalidade** -> total de óbito acumulado durante determinado período dividido pelo população e multiplicado por 1.000.000"
   ]
  },
  {
   "cell_type": "code",
   "execution_count": 25,
   "metadata": {},
   "outputs": [
    {
     "name": "stdout",
     "output_type": "stream",
     "text": [
      "+------+------+---------+-----+------+--------------+---------------+-------------------+---------+----------------+--------------+----------+---------------+-----------+----------------+---------------------+----------------------+\n",
      "|regiao|estado|municipio|coduf|codmun|codRegiaoSaude|nomeRegiaoSaude|               data|semanaEpi|populacaoTCU2019|casosAcumulado|casosNovos|obitosAcumulado|obitosNovos|Recuperadosnovos|emAcompanhamentoNovos|interior/metropolitana|\n",
      "+------+------+---------+-----+------+--------------+---------------+-------------------+---------+----------------+--------------+----------+---------------+-----------+----------------+---------------------+----------------------+\n",
      "|Brasil|  null|     null|   76|  null|          null|           null|2021-07-06 00:00:00|       27|       210147125|      18855015|     62504|         526892|       1780|        17262646|              1065477|                  null|\n",
      "+------+------+---------+-----+------+--------------+---------------+-------------------+---------+----------------+--------------+----------+---------------+-----------+----------------+---------------------+----------------------+\n",
      "\n"
     ]
    }
   ],
   "source": [
    "# Dataframe filtrado apenas com o registro da última data para a região do Brasil\n",
    "df_covid_filter_date.show()"
   ]
  },
  {
   "cell_type": "code",
   "execution_count": 26,
   "metadata": {},
   "outputs": [],
   "source": [
    "# Criação da nova coluna de letalidade.\n",
    "df_covid_lethality = df_covid_filter_date.withColumn('Letalidade',\\\n",
    "(df_covid_filter_date.obitosAcumulado / df_covid_filter_date.casosAcumulado)*100)"
   ]
  },
  {
   "cell_type": "code",
   "execution_count": 27,
   "metadata": {
    "scrolled": true
   },
   "outputs": [],
   "source": [
    "# Criação da nova coluna de mortalidade.\n",
    "df_covid_lethality = df_covid_lethality.withColumn('Mortalidade',\\\n",
    "(df_covid_filter_date.obitosAcumulado / df_covid_filter_date.populacaoTCU2019)*100000)"
   ]
  },
  {
   "cell_type": "code",
   "execution_count": 28,
   "metadata": {},
   "outputs": [],
   "source": [
    "# Criando um dataframe apenas com as informações das colunas importantes para essa visualização.\n",
    "df_covid_lethality = df_covid_lethality[\"regiao\",\"obitosAcumulado\", \"obitosNovos\", \"Letalidade\", \"Mortalidade\" ]"
   ]
  },
  {
   "cell_type": "code",
   "execution_count": 29,
   "metadata": {
    "scrolled": true
   },
   "outputs": [],
   "source": [
    "# Renomeando as colunas.\n",
    "df_covid_lethality = df_covid_lethality.withColumnRenamed(\"regiao\",\"Regiao\").\\\n",
    "withColumnRenamed(\"obitosAcumulado\",\"Obitos_Acumulado\").withColumnRenamed(\"obitosNovos\",\"Obitos_Novos\")"
   ]
  },
  {
   "cell_type": "code",
   "execution_count": 30,
   "metadata": {},
   "outputs": [],
   "source": [
    "# Estabelecendo o número de casas decimais na coluna nova letalidade.\n",
    "df_covid_lethality = df_covid_lethality.withColumn('Letalidade',\\\n",
    "format_number(col(\"Letalidade\").cast(FloatType()),1))"
   ]
  },
  {
   "cell_type": "code",
   "execution_count": 31,
   "metadata": {},
   "outputs": [],
   "source": [
    "# Estabelecendo o número de casas decimais na coluna nova mortalidade.\n",
    "df_covid_lethality = df_covid_lethality.withColumn('Mortalidade',\\\n",
    "format_number(col(\"Mortalidade\").cast(FloatType()),1))"
   ]
  },
  {
   "cell_type": "code",
   "execution_count": 32,
   "metadata": {},
   "outputs": [
    {
     "name": "stdout",
     "output_type": "stream",
     "text": [
      "+------+----------------+------------+----------+-----------+\n",
      "|Regiao|Obitos_Acumulado|Obitos_Novos|Letalidade|Mortalidade|\n",
      "+------+----------------+------------+----------+-----------+\n",
      "|Brasil|          526892|        1780|       2.8|      250.7|\n",
      "+------+----------------+------------+----------+-----------+\n",
      "\n"
     ]
    }
   ],
   "source": [
    "# Apresentação da terceira visualização de casos confirmados.\n",
    "df_covid_lethality.show()"
   ]
  },
  {
   "cell_type": "markdown",
   "metadata": {},
   "source": [
    "### 6. Salvar a terceira visualização em um tópico do Kafka"
   ]
  },
  {
   "cell_type": "markdown",
   "metadata": {},
   "source": [
    "Criação de um topico pelo terminal no container do Kafka:\n",
    "```bash\n",
    "kafka-topics.sh --bootstrap-server kafka:9092 --topic obitos-covid --create --partitions 2 --replication-factor 1\n",
    "```"
   ]
  },
  {
   "cell_type": "code",
   "execution_count": 33,
   "metadata": {},
   "outputs": [],
   "source": [
    "df_covid_lethality.selectExpr(\"to_json(struct(*)) AS value\").write.format('kafka')\\\n",
    ".option('kafka.bootstrap.servers', 'kafka:9092').option('topic', 'obitos-covid').save()"
   ]
  },
  {
   "cell_type": "markdown",
   "metadata": {},
   "source": [
    "### 7. Criar a visualização pelo Spark com os dados enviados para o HDFS"
   ]
  },
  {
   "cell_type": "code",
   "execution_count": 34,
   "metadata": {},
   "outputs": [
    {
     "name": "stdout",
     "output_type": "stream",
     "text": [
      "+------+------+---------+-----+------+--------------+---------------+-------------------+---------+----------------+--------------+----------+---------------+-----------+----------------+---------------------+----------------------+\n",
      "|regiao|estado|municipio|coduf|codmun|codRegiaoSaude|nomeRegiaoSaude|               data|semanaEpi|populacaoTCU2019|casosAcumulado|casosNovos|obitosAcumulado|obitosNovos|Recuperadosnovos|emAcompanhamentoNovos|interior/metropolitana|\n",
      "+------+------+---------+-----+------+--------------+---------------+-------------------+---------+----------------+--------------+----------+---------------+-----------+----------------+---------------------+----------------------+\n",
      "|Brasil|  null|     null|   76|  null|          null|           null|2020-02-25 00:00:00|        9|       210147125|             0|         0|              0|          0|            null|                 null|                  null|\n",
      "|Brasil|  null|     null|   76|  null|          null|           null|2020-02-26 00:00:00|        9|       210147125|             1|         1|              0|          0|            null|                 null|                  null|\n",
      "|Brasil|  null|     null|   76|  null|          null|           null|2020-02-27 00:00:00|        9|       210147125|             1|         0|              0|          0|            null|                 null|                  null|\n",
      "|Brasil|  null|     null|   76|  null|          null|           null|2020-02-28 00:00:00|        9|       210147125|             1|         0|              0|          0|            null|                 null|                  null|\n",
      "|Brasil|  null|     null|   76|  null|          null|           null|2020-02-29 00:00:00|        9|       210147125|             2|         1|              0|          0|            null|                 null|                  null|\n",
      "+------+------+---------+-----+------+--------------+---------------+-------------------+---------+----------------+--------------+----------+---------------+-----------+----------------+---------------------+----------------------+\n",
      "only showing top 5 rows\n",
      "\n"
     ]
    }
   ],
   "source": [
    "# Dataframe filtrado apenas com o registro da última data para a região do Brasil.\n",
    "df_covid.show(5)"
   ]
  },
  {
   "cell_type": "code",
   "execution_count": 11,
   "metadata": {},
   "outputs": [],
   "source": [
    "# Os dados apresentam um registo com as informações gerais de determinada região, dessa forma, vamos utilizar esse registro.\n",
    "# Agrupando o dataframe pela região e pelos valores máximos das colunas.\n",
    "df_covid_region = df_covid.groupBy('regiao').agg({\\\n",
    "'casosAcumulado':'max', 'obitosAcumulado': 'max', 'populacaoTCU2019': 'max','data': 'max'})"
   ]
  },
  {
   "cell_type": "code",
   "execution_count": 12,
   "metadata": {},
   "outputs": [
    {
     "name": "stdout",
     "output_type": "stream",
     "text": [
      "+------------+---------------------+-------------------+-------------------+--------------------+\n",
      "|      regiao|max(populacaoTCU2019)|max(casosAcumulado)|          max(data)|max(obitosAcumulado)|\n",
      "+------------+---------------------+-------------------+-------------------+--------------------+\n",
      "|    Nordeste|             14873064|            1141612|2021-07-06 00:00:00|               24428|\n",
      "|         Sul|             11433957|            1308643|2021-07-06 00:00:00|               31867|\n",
      "|     Sudeste|             45919049|            3809222|2021-07-06 00:00:00|              130389|\n",
      "|Centro-Oeste|              7018354|             686433|2021-07-06 00:00:00|               19485|\n",
      "|      Brasil|            210147125|           18855015|2021-07-06 00:00:00|              526892|\n",
      "+------------+---------------------+-------------------+-------------------+--------------------+\n",
      "only showing top 5 rows\n",
      "\n"
     ]
    }
   ],
   "source": [
    "df_covid_region.show(5)"
   ]
  },
  {
   "cell_type": "code",
   "execution_count": 13,
   "metadata": {},
   "outputs": [],
   "source": [
    "# Criação da nova coluna de mortalidade.\n",
    "df_covid_region_mortality = df_covid_region.withColumn('Mortalidade',\\\n",
    "(df_covid_region[\"max(obitosAcumulado)\"] / df_covid_region[\"max(populacaoTCU2019)\"])*100000)"
   ]
  },
  {
   "cell_type": "code",
   "execution_count": 14,
   "metadata": {},
   "outputs": [
    {
     "name": "stdout",
     "output_type": "stream",
     "text": [
      "+------------+---------------------+-------------------+-------------------+--------------------+------------------+\n",
      "|      regiao|max(populacaoTCU2019)|max(casosAcumulado)|          max(data)|max(obitosAcumulado)|       Mortalidade|\n",
      "+------------+---------------------+-------------------+-------------------+--------------------+------------------+\n",
      "|    Nordeste|             14873064|            1141612|2021-07-06 00:00:00|               24428|164.24322520228515|\n",
      "|         Sul|             11433957|            1308643|2021-07-06 00:00:00|               31867|278.70491379318634|\n",
      "|     Sudeste|             45919049|            3809222|2021-07-06 00:00:00|              130389| 283.9540514003241|\n",
      "|Centro-Oeste|              7018354|             686433|2021-07-06 00:00:00|               19485|277.62919909711025|\n",
      "|      Brasil|            210147125|           18855015|2021-07-06 00:00:00|              526892|250.72529543290204|\n",
      "+------------+---------------------+-------------------+-------------------+--------------------+------------------+\n",
      "only showing top 5 rows\n",
      "\n"
     ]
    }
   ],
   "source": [
    "df_covid_region_mortality.show(5)"
   ]
  },
  {
   "cell_type": "code",
   "execution_count": 15,
   "metadata": {},
   "outputs": [],
   "source": [
    "# Criação da nova coluna de incidência.\n",
    "df_covid_region_mortality_incidence = df_covid_region_mortality.withColumn('Incidencia', (df_covid_region_mortality\\\n",
    "['max(casosAcumulado)'] / (df_covid_region_mortality['max(populacaoTCU2019)'] -\\\n",
    "                           df_covid_region_mortality['max(casosAcumulado)'])*100000))"
   ]
  },
  {
   "cell_type": "code",
   "execution_count": 16,
   "metadata": {},
   "outputs": [
    {
     "name": "stdout",
     "output_type": "stream",
     "text": [
      "+------------+---------------------+-------------------+-------------------+--------------------+------------------+-----------------+\n",
      "|      regiao|max(populacaoTCU2019)|max(casosAcumulado)|          max(data)|max(obitosAcumulado)|       Mortalidade|       Incidencia|\n",
      "+------------+---------------------+-------------------+-------------------+--------------------+------------------+-----------------+\n",
      "|    Nordeste|             14873064|            1141612|2021-07-06 00:00:00|               24428|164.24322520228515| 8313.84765400000|\n",
      "|         Sul|             11433957|            1308643|2021-07-06 00:00:00|               31867|278.70491379318634|12924.46831800000|\n",
      "|     Sudeste|             45919049|            3809222|2021-07-06 00:00:00|              130389| 283.9540514003241| 9045.92175100000|\n",
      "|Centro-Oeste|              7018354|             686433|2021-07-06 00:00:00|               19485|277.62919909711025|10840.83329500000|\n",
      "|      Brasil|            210147125|           18855015|2021-07-06 00:00:00|              526892|250.72529543290204| 9856.66110300000|\n",
      "+------------+---------------------+-------------------+-------------------+--------------------+------------------+-----------------+\n",
      "only showing top 5 rows\n",
      "\n"
     ]
    }
   ],
   "source": [
    "df_covid_region_mortality_incidence.show(5)"
   ]
  },
  {
   "cell_type": "code",
   "execution_count": 17,
   "metadata": {},
   "outputs": [],
   "source": [
    "# Estabelecendo o número de casas decimais na coluna nova mortalidade.\n",
    "df_covid_region_mortality_incidence = df_covid_region_mortality_incidence.withColumn('Mortalidade',\\\n",
    "format_number(col(\"Mortalidade\").cast(FloatType()),1))"
   ]
  },
  {
   "cell_type": "code",
   "execution_count": 18,
   "metadata": {},
   "outputs": [],
   "source": [
    "# Estabelecendo o número de casas decimais na coluna nova incidência.\n",
    "df_covid_region_mortality_incidence = df_covid_region_mortality_incidence.withColumn('Incidencia',\\\n",
    "format_number(col(\"Incidencia\").cast(FloatType()),1))"
   ]
  },
  {
   "cell_type": "code",
   "execution_count": 19,
   "metadata": {},
   "outputs": [
    {
     "name": "stdout",
     "output_type": "stream",
     "text": [
      "+------------+---------------------+-------------------+-------------------+--------------------+-----------+----------+\n",
      "|      regiao|max(populacaoTCU2019)|max(casosAcumulado)|          max(data)|max(obitosAcumulado)|Mortalidade|Incidencia|\n",
      "+------------+---------------------+-------------------+-------------------+--------------------+-----------+----------+\n",
      "|    Nordeste|             14873064|            1141612|2021-07-06 00:00:00|               24428|      164.2|   8,313.8|\n",
      "|         Sul|             11433957|            1308643|2021-07-06 00:00:00|               31867|      278.7|  12,924.5|\n",
      "|     Sudeste|             45919049|            3809222|2021-07-06 00:00:00|              130389|      284.0|   9,045.9|\n",
      "|Centro-Oeste|              7018354|             686433|2021-07-06 00:00:00|               19485|      277.6|  10,840.8|\n",
      "|      Brasil|            210147125|           18855015|2021-07-06 00:00:00|              526892|      250.7|   9,856.7|\n",
      "+------------+---------------------+-------------------+-------------------+--------------------+-----------+----------+\n",
      "only showing top 5 rows\n",
      "\n"
     ]
    }
   ],
   "source": [
    "df_covid_region_mortality_incidence.show(5)"
   ]
  },
  {
   "cell_type": "code",
   "execution_count": 20,
   "metadata": {},
   "outputs": [],
   "source": [
    "# Renomeando as colunas.\n",
    "df_covid_region_mortality_incidence = df_covid_region_mortality_incidence.withColumnRenamed(\"regiao\",\"Regiao\").\\\n",
    "withColumnRenamed(\"max(populacaoTCU2019)\",\"Populacao\").withColumnRenamed(\"max(casosAcumulado)\",\"Casos\").\\\n",
    "withColumnRenamed(\"max(data)\",\"Data\").withColumnRenamed(\"max(obitosAcumulado)\",\"Obitos\")"
   ]
  },
  {
   "cell_type": "code",
   "execution_count": 21,
   "metadata": {},
   "outputs": [
    {
     "name": "stdout",
     "output_type": "stream",
     "text": [
      "+------------+---------+--------+-------------------+------+-----------+----------+\n",
      "|      Regiao|Populacao|   Casos|               Data|Obitos|Mortalidade|Incidencia|\n",
      "+------------+---------+--------+-------------------+------+-----------+----------+\n",
      "|    Nordeste| 14873064| 1141612|2021-07-06 00:00:00| 24428|      164.2|   8,313.8|\n",
      "|         Sul| 11433957| 1308643|2021-07-06 00:00:00| 31867|      278.7|  12,924.5|\n",
      "|     Sudeste| 45919049| 3809222|2021-07-06 00:00:00|130389|      284.0|   9,045.9|\n",
      "|Centro-Oeste|  7018354|  686433|2021-07-06 00:00:00| 19485|      277.6|  10,840.8|\n",
      "|      Brasil|210147125|18855015|2021-07-06 00:00:00|526892|      250.7|   9,856.7|\n",
      "+------------+---------+--------+-------------------+------+-----------+----------+\n",
      "only showing top 5 rows\n",
      "\n"
     ]
    }
   ],
   "source": [
    "# Apresentação da visualização.\n",
    "df_covid_region_mortality_incidence.show(5)"
   ]
  }
 ],
 "metadata": {
  "kernelspec": {
   "display_name": "PySpark",
   "language": "python",
   "name": "pyspark"
  },
  "language_info": {
   "codemirror_mode": {
    "name": "ipython",
    "version": 3
   },
   "file_extension": ".py",
   "mimetype": "text/x-python",
   "name": "python",
   "nbconvert_exporter": "python",
   "pygments_lexer": "ipython3",
   "version": "3.6.10"
  }
 },
 "nbformat": 4,
 "nbformat_minor": 2
}
