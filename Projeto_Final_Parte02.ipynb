{
 "cells": [
  {
   "cell_type": "markdown",
   "metadata": {},
   "source": [
    "### Visualização 3 - Óbitos Confirmados"
   ]
  },
  {
   "cell_type": "code",
   "execution_count": 9,
   "metadata": {},
   "outputs": [],
   "source": [
    "from pyspark.sql.functions import *"
   ]
  },
  {
   "cell_type": "code",
   "execution_count": 10,
   "metadata": {},
   "outputs": [],
   "source": [
    "from pyspark.sql.types import *"
   ]
  },
  {
   "cell_type": "code",
   "execution_count": 11,
   "metadata": {},
   "outputs": [],
   "source": [
    "df_covid = spark.read.csv(\"/user/jessica/dados_covid/*.csv\", sep = \";\", header = True, inferSchema = True)"
   ]
  },
  {
   "cell_type": "code",
   "execution_count": 12,
   "metadata": {},
   "outputs": [
    {
     "name": "stdout",
     "output_type": "stream",
     "text": [
      "+-------------------+\n",
      "|          max(data)|\n",
      "+-------------------+\n",
      "|2021-07-06 00:00:00|\n",
      "+-------------------+\n",
      "\n"
     ]
    }
   ],
   "source": [
    "df_covid.agg({'data':'max'}).show()"
   ]
  },
  {
   "cell_type": "code",
   "execution_count": 13,
   "metadata": {},
   "outputs": [
    {
     "name": "stdout",
     "output_type": "stream",
     "text": [
      "2021-07-06 00:00:00\n"
     ]
    }
   ],
   "source": [
    "last_date = df_covid.agg({'data':'max'}).head()[0]\n",
    "print(last_date)"
   ]
  },
  {
   "cell_type": "code",
   "execution_count": 14,
   "metadata": {},
   "outputs": [],
   "source": [
    "df_covid_filter_date = df_covid.where((df_covid['regiao'] == 'Brasil') & (df_covid['data'] == last_date))"
   ]
  },
  {
   "cell_type": "code",
   "execution_count": 15,
   "metadata": {},
   "outputs": [
    {
     "name": "stdout",
     "output_type": "stream",
     "text": [
      "+------+------+---------+-----+------+--------------+---------------+-------------------+---------+----------------+--------------+----------+---------------+-----------+----------------+---------------------+----------------------+\n",
      "|regiao|estado|municipio|coduf|codmun|codRegiaoSaude|nomeRegiaoSaude|               data|semanaEpi|populacaoTCU2019|casosAcumulado|casosNovos|obitosAcumulado|obitosNovos|Recuperadosnovos|emAcompanhamentoNovos|interior/metropolitana|\n",
      "+------+------+---------+-----+------+--------------+---------------+-------------------+---------+----------------+--------------+----------+---------------+-----------+----------------+---------------------+----------------------+\n",
      "|Brasil|  null|     null|   76|  null|          null|           null|2021-07-06 00:00:00|       27|       210147125|      18855015|     62504|         526892|       1780|        17262646|              1065477|                  null|\n",
      "+------+------+---------+-----+------+--------------+---------------+-------------------+---------+----------------+--------------+----------+---------------+-----------+----------------+---------------------+----------------------+\n",
      "\n"
     ]
    }
   ],
   "source": [
    "df_covid_filter_date.show()"
   ]
  },
  {
   "cell_type": "code",
   "execution_count": 16,
   "metadata": {},
   "outputs": [],
   "source": [
    "df_covid_lethality = df_covid_filter_date.withColumn('Letalidade', \\\n",
    "(df_covid_filter_date.obitosAcumulado/df_covid_filter_date.casosAcumulado)*100)"
   ]
  },
  {
   "cell_type": "code",
   "execution_count": 17,
   "metadata": {},
   "outputs": [],
   "source": [
    "df_covid_lethality = df_covid_lethality.withColumn('Mortalidade', \\\n",
    "(df_covid_lethality.obitosAcumulado/df_covid_lethality.populacaoTCU2019)*100000)"
   ]
  },
  {
   "cell_type": "code",
   "execution_count": 18,
   "metadata": {},
   "outputs": [],
   "source": [
    "df_covid_lethality = df_covid_lethality['regiao', 'obitosAcumulado', 'obitosNovos', 'Letalidade', 'Mortalidade']"
   ]
  },
  {
   "cell_type": "code",
   "execution_count": 19,
   "metadata": {},
   "outputs": [
    {
     "name": "stdout",
     "output_type": "stream",
     "text": [
      "+------+---------------+-----------+-------------+------------------+\n",
      "|regiao|obitosAcumulado|obitosNovos|   Letalidade|       Mortalidade|\n",
      "+------+---------------+-----------+-------------+------------------+\n",
      "|Brasil|         526892|       1780|2.79443957000|250.72529543290204|\n",
      "+------+---------------+-----------+-------------+------------------+\n",
      "\n"
     ]
    }
   ],
   "source": [
    "df_covid_lethality.show()"
   ]
  },
  {
   "cell_type": "code",
   "execution_count": 20,
   "metadata": {},
   "outputs": [],
   "source": [
    "df_covid_lethality = df_covid_lethality.withColumnRenamed('regiao','Regiao')\\\n",
    ".withColumnRenamed('obitosAcumulado','Obitos_Acumulado').withColumnRenamed('obitosNovos','Obitos_Novos')"
   ]
  },
  {
   "cell_type": "code",
   "execution_count": 21,
   "metadata": {},
   "outputs": [],
   "source": [
    "df_covid_lethality = df_covid_lethality.withColumn('Letalidade',\\\n",
    "    format_number(col('Letalidade').cast(FloatType()),1))"
   ]
  },
  {
   "cell_type": "code",
   "execution_count": 22,
   "metadata": {},
   "outputs": [],
   "source": [
    "df_covid_lethality = df_covid_lethality.withColumn('Mortalidade',\\\n",
    "    format_number(col('Mortalidade').cast(FloatType()),1))"
   ]
  },
  {
   "cell_type": "code",
   "execution_count": 23,
   "metadata": {},
   "outputs": [
    {
     "name": "stdout",
     "output_type": "stream",
     "text": [
      "+------+----------------+------------+----------+-----------+\n",
      "|Regiao|Obitos_Acumulado|Obitos_Novos|Letalidade|Mortalidade|\n",
      "+------+----------------+------------+----------+-----------+\n",
      "|Brasil|          526892|        1780|       2.8|      250.7|\n",
      "+------+----------------+------------+----------+-----------+\n",
      "\n"
     ]
    }
   ],
   "source": [
    "df_covid_lethality.show()"
   ]
  },
  {
   "cell_type": "markdown",
   "metadata": {},
   "source": [
    "### 8. Salvar a visualização do exercício 6 em um tópico no Elastic "
   ]
  },
  {
   "cell_type": "code",
   "execution_count": 2,
   "metadata": {
    "scrolled": false
   },
   "outputs": [
    {
     "name": "stdout",
     "output_type": "stream",
     "text": [
      "Requirement already satisfied: elasticsearch==7.17 in /opt/anaconda3/lib/python3.6/site-packages (7.17.0)\n",
      "Requirement already satisfied: urllib3<2,>=1.21.1 in /opt/anaconda3/lib/python3.6/site-packages (from elasticsearch==7.17) (1.26.13)\n",
      "Requirement already satisfied: certifi in /opt/anaconda3/lib/python3.6/site-packages (from elasticsearch==7.17) (2019.11.28)\n"
     ]
    }
   ],
   "source": [
    "# Intslação do pacote do elasticsearch.\n",
    "!pip install elasticsearch==7.17"
   ]
  },
  {
   "cell_type": "code",
   "execution_count": 5,
   "metadata": {},
   "outputs": [
    {
     "name": "stdout",
     "output_type": "stream",
     "text": [
      "Collecting requests\n",
      "  Downloading requests-2.27.1-py2.py3-none-any.whl (63 kB)\n",
      "\u001b[K     |████████████████████████████████| 63 kB 812 kB/s eta 0:00:011\n",
      "\u001b[?25hRequirement already satisfied, skipping upgrade: certifi>=2017.4.17 in /opt/anaconda3/lib/python3.6/site-packages (from requests) (2019.11.28)\n",
      "Collecting charset-normalizer~=2.0.0; python_version >= \"3\"\n",
      "  Downloading charset_normalizer-2.0.12-py3-none-any.whl (39 kB)\n",
      "Requirement already satisfied, skipping upgrade: urllib3<1.27,>=1.21.1 in /opt/anaconda3/lib/python3.6/site-packages (from requests) (1.26.13)\n",
      "Requirement already satisfied, skipping upgrade: idna<4,>=2.5; python_version >= \"3\" in /opt/anaconda3/lib/python3.6/site-packages (from requests) (2.6)\n",
      "Installing collected packages: charset-normalizer, requests\n",
      "  Attempting uninstall: requests\n",
      "    Found existing installation: requests 2.18.4\n",
      "    Uninstalling requests-2.18.4:\n",
      "      Successfully uninstalled requests-2.18.4\n",
      "Successfully installed charset-normalizer-2.0.12 requests-2.27.1\n"
     ]
    }
   ],
   "source": [
    "# Instalando o pocote requisitado para fazer a conexão.\n",
    "!pip install --upgrade requests"
   ]
  },
  {
   "cell_type": "code",
   "execution_count": 6,
   "metadata": {},
   "outputs": [],
   "source": [
    "# Importando a biblioteca.\n",
    "from elasticsearch import Elasticsearch"
   ]
  },
  {
   "cell_type": "code",
   "execution_count": 7,
   "metadata": {},
   "outputs": [],
   "source": [
    "# Abrindo conexão com o Elastic.\n",
    "es = Elasticsearch('host.docker.internal:9200')"
   ]
  },
  {
   "cell_type": "code",
   "execution_count": 8,
   "metadata": {},
   "outputs": [
    {
     "name": "stdout",
     "output_type": "stream",
     "text": [
      "{'name': 'node1', 'cluster_name': 'my_cluster', 'cluster_uuid': 'Ffu8-3xxTGiQHmcxvV6VPw', 'version': {'number': '7.9.2', 'build_flavor': 'default', 'build_type': 'docker', 'build_hash': 'd34da0ea4a966c4e49417f2da2f244e3e97b4e6e', 'build_date': '2020-09-23T00:45:33.626720Z', 'build_snapshot': False, 'lucene_version': '8.6.2', 'minimum_wire_compatibility_version': '6.8.0', 'minimum_index_compatibility_version': '6.0.0-beta1'}, 'tagline': 'You Know, for Search'}\n"
     ]
    }
   ],
   "source": [
    "# Confirmando que a conexão está ativa.\n",
    "print(es.info())"
   ]
  },
  {
   "cell_type": "code",
   "execution_count": 34,
   "metadata": {},
   "outputs": [],
   "source": [
    "# Configuração de leitura.\n",
    "es_read_config = {\"es.nodes\":\"host.docker.internal\", \"es.port\":\"9200\", \"es.resource\":\"dados_covid\"}"
   ]
  },
  {
   "cell_type": "code",
   "execution_count": 35,
   "metadata": {},
   "outputs": [],
   "source": [
    "# # Configuração de escrita.\n",
    "es_write_config = {\"es.nodes\":\"host.docker.internal\", \"es.port\":\"9200\", \"es.resource\":\"dados_covid\"}"
   ]
  },
  {
   "cell_type": "code",
   "execution_count": 38,
   "metadata": {},
   "outputs": [],
   "source": [
    "# Enviando os dados para o elasticsearch.\n",
    "df_covid_lethality.write.format(\"org.elasticsearch.spark.sql\").option(\"es.nodes\",\"host.docker.internal\")\\\n",
    ".option(\"es.port\",\"9200\").option('es.resource',\"dados_covid\").option(\"es.nodes.wan.only\",\"true\").save()"
   ]
  }
 ],
 "metadata": {
  "kernelspec": {
   "display_name": "PySpark",
   "language": "python",
   "name": "pyspark"
  },
  "language_info": {
   "codemirror_mode": {
    "name": "ipython",
    "version": 3
   },
   "file_extension": ".py",
   "mimetype": "text/x-python",
   "name": "python",
   "nbconvert_exporter": "python",
   "pygments_lexer": "ipython3",
   "version": "3.6.10"
  }
 },
 "nbformat": 4,
 "nbformat_minor": 2
}
